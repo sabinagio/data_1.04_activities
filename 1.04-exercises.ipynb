{
 "cells": [
  {
   "cell_type": "markdown",
   "metadata": {},
   "source": [
    "# Activity 1"
   ]
  },
  {
   "cell_type": "markdown",
   "metadata": {},
   "source": [
    "### 1. Load data (file1.csv) in a new Jupyter notebook."
   ]
  },
  {
   "cell_type": "code",
   "execution_count": null,
   "metadata": {},
   "outputs": [],
   "source": [
    "import pandas as pd\n",
    "import numpy as np\n",
    "\n",
    "df = pd.read_csv('files_for_activities/csv_files/file1.csv')\n",
    "\n",
    "# Check the layout of the data\n",
    "print(df.head())"
   ]
  },
  {
   "cell_type": "markdown",
   "metadata": {},
   "source": [
    "### 2. Write the code to clean the columns 'ic4' and 'ic5' of null values in the dataframe."
   ]
  },
  {
   "cell_type": "code",
   "execution_count": null,
   "metadata": {},
   "outputs": [],
   "source": [
    "df = df[(df['IC4'].isna() == False) & (df['IC5'].isna() == False)]\n",
    "\n",
    "# Check if there are any null values in the columns\n",
    "print(df['IC4'].isna().sum())\n",
    "print(df['IC5'].isna().sum())"
   ]
  },
  {
   "cell_type": "markdown",
   "metadata": {},
   "source": [
    "### 3. Use the head() to check the new dataframe."
   ]
  },
  {
   "cell_type": "code",
   "execution_count": null,
   "metadata": {},
   "outputs": [],
   "source": [
    "print(df.head())"
   ]
  },
  {
   "cell_type": "markdown",
   "metadata": {},
   "source": [
    "## Debate"
   ]
  },
  {
   "cell_type": "markdown",
   "metadata": {},
   "source": [
    "### 1. Is it better to fill null values with the mean or with the median?\n",
    "\n",
    "It's better to fill the null values with the median, as "
   ]
  },
  {
   "cell_type": "markdown",
   "metadata": {},
   "source": [
    "### 2. Can we drop all rows with null values?\n",
    "\n",
    "We can drop rows with null values as long as we have enough data left after the operation, i.e. the amount of null values is not significant in comparison with the size of the dataset."
   ]
  },
  {
   "cell_type": "markdown",
   "metadata": {},
   "source": [
    "# Activity 2"
   ]
  },
  {
   "cell_type": "markdown",
   "metadata": {},
   "source": [
    "### 1. Import the data from merged_clean_ver1.csv as a dataframe. There would be a column with the sequence of numbers (to the left of column id). Drop that column(s)."
   ]
  },
  {
   "cell_type": "code",
   "execution_count": null,
   "metadata": {},
   "outputs": [],
   "source": [
    "df2 = pd.read_csv('files_for_activities/csv_files/merged_clean_ver1.csv')\n",
    "\n",
    "# Check the data before removing the column\n",
    "print(df2.head())"
   ]
  },
  {
   "cell_type": "code",
   "execution_count": null,
   "metadata": {},
   "outputs": [],
   "source": [
    "df2.drop('Unnamed: 0', axis = 1, inplace = True)\n",
    "\n",
    "# Check that the column was removed\n",
    "print(df2.head())"
   ]
  },
  {
   "cell_type": "markdown",
   "metadata": {},
   "source": [
    "### 2. Check the column state for null values. Replace those null values with the state that is represented largest number of times in that column"
   ]
  },
  {
   "cell_type": "code",
   "execution_count": null,
   "metadata": {},
   "outputs": [],
   "source": [
    "# See how many null values are in the 'state' column\n",
    "\n",
    "print(df2['state'].isnull().sum())\n",
    "print(df2['state'].unique())"
   ]
  },
  {
   "cell_type": "markdown",
   "metadata": {},
   "source": [
    "There are no null values in the _state_ column, so there's no need to fill it."
   ]
  },
  {
   "cell_type": "markdown",
   "metadata": {},
   "source": [
    "### 3. Lambda Expression:\n",
    "\n",
    "#### 3.1. Create a simple lambda expression to add three numbers. Take those three numbers as input from the user. (Since you will accept only numbers as valid inputs, check this example to see how to do it.)"
   ]
  },
  {
   "cell_type": "code",
   "execution_count": null,
   "metadata": {},
   "outputs": [],
   "source": [
    "sum = lambda a, b, c: a + b + c\n",
    "\n",
    "num1 = int(input('Please add a number:'))\n",
    "num2 = int(input('Please add a number:'))\n",
    "num3 = int(input('Please add a number:'))\n",
    "\n",
    "print(sum(num1, num2, num3))"
   ]
  },
  {
   "cell_type": "markdown",
   "metadata": {},
   "source": [
    "#### 3.2 Define a list as lst = [1,2,3,4,5,6,7,8,10]. Write a lambda expression to find the cube of a number. Use that lambda expression to find the cube of every number in the list. Define a list comprehension for this question."
   ]
  },
  {
   "cell_type": "code",
   "execution_count": null,
   "metadata": {},
   "outputs": [],
   "source": [
    "lst = [1, 2, 3, 4, 5, 6, 7, 8, 10]\n",
    "\n",
    "cube = lambda x: x ** 3\n",
    "\n",
    "lst_cubed = [x ** 3 for x in lst]\n",
    "print(lst_cubed)"
   ]
  },
  {
   "cell_type": "markdown",
   "metadata": {},
   "source": [
    "# Activity 3\n",
    "\n",
    "Try to convert these functions into lambda functions.\n",
    "\n",
    "```python\n",
    "def function_1(a,b):\n",
    "    c=a+b\n",
    "    return c\n",
    "```\n",
    "\n",
    "```python\n",
    "def function_2(a,b):\n",
    "    c=0\n",
    "    for i in range(a):\n",
    "        c+=2*b\n",
    "    return c\n",
    "```\n",
    "\n",
    "```python\n",
    "def function_3(a,b):\n",
    "    c=0\n",
    "    if a>3:\n",
    "        c=12\n",
    "    else:\n",
    "        c='Too big.'\n",
    "    return c\n",
    "```"
   ]
  },
  {
   "cell_type": "code",
   "execution_count": null,
   "metadata": {},
   "outputs": [],
   "source": [
    "function_1 = lambda a, b : a + b\n",
    "\n",
    "function_2 = lambda a, b: 2 * a * b\n",
    "\n",
    "function_3 = lambda a: 12 if a > 3 else 'Too big.' "
   ]
  },
  {
   "cell_type": "markdown",
   "metadata": {},
   "source": [
    "# Activity 4\n",
    "\n",
    "Use the same notebook in which you already loaded _merged_clean_ver1.csv_."
   ]
  },
  {
   "cell_type": "markdown",
   "metadata": {},
   "source": [
    "### 1. Create a user-defined method to clean the column _state_ in the dataframe."
   ]
  },
  {
   "cell_type": "code",
   "execution_count": null,
   "metadata": {},
   "outputs": [],
   "source": [
    "# Read the data again\n",
    "df2 = pd.read_csv('files_for_activities/csv_files/merged_clean_ver1.csv')\n",
    "\n",
    "# Check the data in the column\n",
    "print(df2['state'].unique())\n",
    "\n",
    "# We'll create a function which replaces longer state names (e.g. California, Cali) with their two letter abbreviation (e.g. CA)\n",
    "def clean(state):\n",
    "    if state == 'California' or state == 'Cali':\n",
    "        state = 'CA'\n",
    "    elif state == 'Arizona':\n",
    "        state = 'AZ'\n",
    "    elif state == 'Tennessee':\n",
    "        state = 'TN'\n",
    "    return state\n",
    "\n",
    "df2['state'] = df2['state'].apply(clean)\n",
    "\n",
    "# Check that the column was cleaned\n",
    "print(df2['state'].unique())\n"
   ]
  },
  {
   "cell_type": "markdown",
   "metadata": {},
   "source": [
    "### 2. Use string functions to standardize the states to uppercase and use the strip function to clean the strings as well.\n",
    "\n",
    "The state column is already clean, however if we were to use string functions to standardize the states and trim white spaces around the strings, it would look like this:"
   ]
  },
  {
   "cell_type": "code",
   "execution_count": null,
   "metadata": {},
   "outputs": [],
   "source": [
    "df2['state'] = df2['state'].str.upper()\n",
    "df2['state'] = df2['state'].str.strip()\n",
    "\n",
    "# Check that the data is clean\n",
    "print(df2['state'])"
   ]
  }
 ],
 "metadata": {
  "interpreter": {
   "hash": "916dbcbb3f70747c44a77c7bcd40155683ae19c65e1c03b4aa3499c5328201f1"
  },
  "kernelspec": {
   "display_name": "Python 3.8.10 64-bit",
   "language": "python",
   "name": "python3"
  },
  "language_info": {
   "codemirror_mode": {
    "name": "ipython",
    "version": 3
   },
   "file_extension": ".py",
   "mimetype": "text/x-python",
   "name": "python",
   "nbconvert_exporter": "python",
   "pygments_lexer": "ipython3",
   "version": "3.8.10"
  },
  "orig_nbformat": 4
 },
 "nbformat": 4,
 "nbformat_minor": 2
}
